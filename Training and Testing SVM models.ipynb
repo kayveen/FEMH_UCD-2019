{
 "cells": [
  {
   "cell_type": "code",
   "execution_count": 1,
   "metadata": {},
   "outputs": [],
   "source": [
    "import sklearn"
   ]
  },
  {
   "cell_type": "code",
   "execution_count": 2,
   "metadata": {},
   "outputs": [],
   "source": [
    "import pandas as pd"
   ]
  },
  {
   "cell_type": "code",
   "execution_count": 3,
   "metadata": {},
   "outputs": [],
   "source": [
    "import numpy as np"
   ]
  },
  {
   "cell_type": "markdown",
   "metadata": {},
   "source": [
    "# Loadind Train and test Data"
   ]
  },
  {
   "cell_type": "code",
   "execution_count": 9,
   "metadata": {},
   "outputs": [],
   "source": [
    "train = pd.read_csv('csv_files/train_data.csv')\n",
    "test = pd.read_csv('csv_files/test_data.csv')"
   ]
  },
  {
   "cell_type": "code",
   "execution_count": 10,
   "metadata": {},
   "outputs": [
    {
     "data": {
      "text/html": [
       "<div>\n",
       "<style scoped>\n",
       "    .dataframe tbody tr th:only-of-type {\n",
       "        vertical-align: middle;\n",
       "    }\n",
       "\n",
       "    .dataframe tbody tr th {\n",
       "        vertical-align: top;\n",
       "    }\n",
       "\n",
       "    .dataframe thead th {\n",
       "        text-align: right;\n",
       "    }\n",
       "</style>\n",
       "<table border=\"1\" class=\"dataframe\">\n",
       "  <thead>\n",
       "    <tr style=\"text-align: right;\">\n",
       "      <th></th>\n",
       "      <th>Unnamed: 0</th>\n",
       "      <th>0</th>\n",
       "      <th>1</th>\n",
       "      <th>2</th>\n",
       "      <th>3</th>\n",
       "      <th>4</th>\n",
       "      <th>5</th>\n",
       "      <th>6</th>\n",
       "      <th>7</th>\n",
       "      <th>8</th>\n",
       "      <th>...</th>\n",
       "      <th>167</th>\n",
       "      <th>168</th>\n",
       "      <th>169</th>\n",
       "      <th>170</th>\n",
       "      <th>171</th>\n",
       "      <th>172</th>\n",
       "      <th>173</th>\n",
       "      <th>174</th>\n",
       "      <th>filepath</th>\n",
       "      <th>label</th>\n",
       "    </tr>\n",
       "  </thead>\n",
       "  <tbody>\n",
       "    <tr>\n",
       "      <th>0</th>\n",
       "      <td>0</td>\n",
       "      <td>-278.576206</td>\n",
       "      <td>129.164773</td>\n",
       "      <td>-22.060418</td>\n",
       "      <td>-4.741548</td>\n",
       "      <td>-26.047579</td>\n",
       "      <td>-45.005509</td>\n",
       "      <td>18.134263</td>\n",
       "      <td>24.779084</td>\n",
       "      <td>-13.573361</td>\n",
       "      <td>...</td>\n",
       "      <td>-0.067562</td>\n",
       "      <td>58.970386</td>\n",
       "      <td>3.660203</td>\n",
       "      <td>2045.457124</td>\n",
       "      <td>284.404937</td>\n",
       "      <td>3.436525</td>\n",
       "      <td>3679.102095</td>\n",
       "      <td>1602.865979</td>\n",
       "      <td>TrainingDataset/Functionaldysphonia/wavefile/0...</td>\n",
       "      <td>0</td>\n",
       "    </tr>\n",
       "    <tr>\n",
       "      <th>1</th>\n",
       "      <td>1</td>\n",
       "      <td>-342.095304</td>\n",
       "      <td>205.723661</td>\n",
       "      <td>9.098802</td>\n",
       "      <td>30.607301</td>\n",
       "      <td>-16.494442</td>\n",
       "      <td>-7.834917</td>\n",
       "      <td>-3.111534</td>\n",
       "      <td>23.628277</td>\n",
       "      <td>19.313014</td>\n",
       "      <td>...</td>\n",
       "      <td>0.478289</td>\n",
       "      <td>47.473347</td>\n",
       "      <td>5.557124</td>\n",
       "      <td>1237.889692</td>\n",
       "      <td>482.724273</td>\n",
       "      <td>3.641655</td>\n",
       "      <td>3431.431322</td>\n",
       "      <td>881.644303</td>\n",
       "      <td>TrainingDataset/Functionaldysphonia/wavefile/0...</td>\n",
       "      <td>0</td>\n",
       "    </tr>\n",
       "    <tr>\n",
       "      <th>2</th>\n",
       "      <td>2</td>\n",
       "      <td>-273.695426</td>\n",
       "      <td>172.579899</td>\n",
       "      <td>-43.313463</td>\n",
       "      <td>-17.121503</td>\n",
       "      <td>-15.582635</td>\n",
       "      <td>8.129898</td>\n",
       "      <td>-13.048666</td>\n",
       "      <td>36.253019</td>\n",
       "      <td>-11.318930</td>\n",
       "      <td>...</td>\n",
       "      <td>-0.715795</td>\n",
       "      <td>57.436906</td>\n",
       "      <td>8.583013</td>\n",
       "      <td>1182.182189</td>\n",
       "      <td>528.375530</td>\n",
       "      <td>2.949788</td>\n",
       "      <td>3449.076681</td>\n",
       "      <td>895.988554</td>\n",
       "      <td>TrainingDataset/Functionaldysphonia/wavefile/0...</td>\n",
       "      <td>0</td>\n",
       "    </tr>\n",
       "    <tr>\n",
       "      <th>3</th>\n",
       "      <td>3</td>\n",
       "      <td>-266.503106</td>\n",
       "      <td>161.376292</td>\n",
       "      <td>-41.794887</td>\n",
       "      <td>-5.719112</td>\n",
       "      <td>-34.077310</td>\n",
       "      <td>-7.891926</td>\n",
       "      <td>-4.983601</td>\n",
       "      <td>31.810949</td>\n",
       "      <td>-2.764222</td>\n",
       "      <td>...</td>\n",
       "      <td>-0.745457</td>\n",
       "      <td>45.201427</td>\n",
       "      <td>9.795621</td>\n",
       "      <td>1225.329185</td>\n",
       "      <td>417.279402</td>\n",
       "      <td>4.129218</td>\n",
       "      <td>3413.659723</td>\n",
       "      <td>961.256659</td>\n",
       "      <td>TrainingDataset/Functionaldysphonia/wavefile/0...</td>\n",
       "      <td>0</td>\n",
       "    </tr>\n",
       "    <tr>\n",
       "      <th>4</th>\n",
       "      <td>4</td>\n",
       "      <td>-478.196607</td>\n",
       "      <td>143.358287</td>\n",
       "      <td>27.101666</td>\n",
       "      <td>18.975435</td>\n",
       "      <td>-3.183125</td>\n",
       "      <td>11.197189</td>\n",
       "      <td>17.749401</td>\n",
       "      <td>12.999041</td>\n",
       "      <td>1.289795</td>\n",
       "      <td>...</td>\n",
       "      <td>-0.702559</td>\n",
       "      <td>38.972669</td>\n",
       "      <td>8.022097</td>\n",
       "      <td>1936.711883</td>\n",
       "      <td>421.736763</td>\n",
       "      <td>1.942523</td>\n",
       "      <td>3323.223352</td>\n",
       "      <td>1419.775724</td>\n",
       "      <td>TrainingDataset/Functionaldysphonia/wavefile/0...</td>\n",
       "      <td>0</td>\n",
       "    </tr>\n",
       "  </tbody>\n",
       "</table>\n",
       "<p>5 rows × 178 columns</p>\n",
       "</div>"
      ],
      "text/plain": [
       "   Unnamed: 0           0           1          2          3          4  \\\n",
       "0           0 -278.576206  129.164773 -22.060418  -4.741548 -26.047579   \n",
       "1           1 -342.095304  205.723661   9.098802  30.607301 -16.494442   \n",
       "2           2 -273.695426  172.579899 -43.313463 -17.121503 -15.582635   \n",
       "3           3 -266.503106  161.376292 -41.794887  -5.719112 -34.077310   \n",
       "4           4 -478.196607  143.358287  27.101666  18.975435  -3.183125   \n",
       "\n",
       "           5          6          7          8  ...       167        168  \\\n",
       "0 -45.005509  18.134263  24.779084 -13.573361  ... -0.067562  58.970386   \n",
       "1  -7.834917  -3.111534  23.628277  19.313014  ...  0.478289  47.473347   \n",
       "2   8.129898 -13.048666  36.253019 -11.318930  ... -0.715795  57.436906   \n",
       "3  -7.891926  -4.983601  31.810949  -2.764222  ... -0.745457  45.201427   \n",
       "4  11.197189  17.749401  12.999041   1.289795  ... -0.702559  38.972669   \n",
       "\n",
       "        169          170         171       172          173          174  \\\n",
       "0  3.660203  2045.457124  284.404937  3.436525  3679.102095  1602.865979   \n",
       "1  5.557124  1237.889692  482.724273  3.641655  3431.431322   881.644303   \n",
       "2  8.583013  1182.182189  528.375530  2.949788  3449.076681   895.988554   \n",
       "3  9.795621  1225.329185  417.279402  4.129218  3413.659723   961.256659   \n",
       "4  8.022097  1936.711883  421.736763  1.942523  3323.223352  1419.775724   \n",
       "\n",
       "                                            filepath  label  \n",
       "0  TrainingDataset/Functionaldysphonia/wavefile/0...      0  \n",
       "1  TrainingDataset/Functionaldysphonia/wavefile/0...      0  \n",
       "2  TrainingDataset/Functionaldysphonia/wavefile/0...      0  \n",
       "3  TrainingDataset/Functionaldysphonia/wavefile/0...      0  \n",
       "4  TrainingDataset/Functionaldysphonia/wavefile/0...      0  \n",
       "\n",
       "[5 rows x 178 columns]"
      ]
     },
     "execution_count": 10,
     "metadata": {},
     "output_type": "execute_result"
    }
   ],
   "source": [
    "train.head()"
   ]
  },
  {
   "cell_type": "code",
   "execution_count": 11,
   "metadata": {},
   "outputs": [],
   "source": [
    "X_train = train.drop(['filepath', 'label'], axis=1)\n",
    "X_test = test.drop(['filepath', 'label'], axis = 1)\n",
    "y_train = train['label']\n",
    "y_test = test['label']"
   ]
  },
  {
   "cell_type": "markdown",
   "metadata": {},
   "source": [
    "# Training"
   ]
  },
  {
   "cell_type": "code",
   "execution_count": 7,
   "metadata": {},
   "outputs": [],
   "source": [
    "from sklearn.svm import SVC"
   ]
  },
  {
   "cell_type": "code",
   "execution_count": 8,
   "metadata": {},
   "outputs": [],
   "source": [
    "model = SVC(C=1, kernel='rbf', gamma=0.001)"
   ]
  },
  {
   "cell_type": "code",
   "execution_count": 12,
   "metadata": {},
   "outputs": [
    {
     "data": {
      "text/plain": [
       "SVC(C=1, cache_size=200, class_weight=None, coef0=0.0,\n",
       "  decision_function_shape='ovr', degree=3, gamma=0.001, kernel='rbf',\n",
       "  max_iter=-1, probability=False, random_state=None, shrinking=True,\n",
       "  tol=0.001, verbose=False)"
      ]
     },
     "execution_count": 12,
     "metadata": {},
     "output_type": "execute_result"
    }
   ],
   "source": [
    "model.fit(X_train, y_train)"
   ]
  },
  {
   "cell_type": "code",
   "execution_count": 13,
   "metadata": {},
   "outputs": [],
   "source": [
    "predictions = model.predict(X_test)"
   ]
  },
  {
   "cell_type": "code",
   "execution_count": 14,
   "metadata": {},
   "outputs": [],
   "source": [
    "from sklearn.metrics import classification_report"
   ]
  },
  {
   "cell_type": "code",
   "execution_count": 16,
   "metadata": {},
   "outputs": [
    {
     "name": "stdout",
     "output_type": "stream",
     "text": [
      "              precision    recall  f1-score   support\n",
      "\n",
      "           0       0.38      0.30      0.33        10\n",
      "           1       0.50      0.30      0.37        10\n",
      "           2       0.27      0.70      0.39        10\n",
      "           3       0.00      0.00      0.00        10\n",
      "\n",
      "   micro avg       0.33      0.33      0.33        40\n",
      "   macro avg       0.29      0.32      0.27        40\n",
      "weighted avg       0.29      0.33      0.27        40\n",
      "\n"
     ]
    }
   ],
   "source": [
    "print(classification_report(y_test, predictions))"
   ]
  },
  {
   "cell_type": "code",
   "execution_count": 17,
   "metadata": {},
   "outputs": [],
   "source": [
    "from sklearn.metrics import confusion_matrix"
   ]
  },
  {
   "cell_type": "code",
   "execution_count": 18,
   "metadata": {},
   "outputs": [
    {
     "name": "stdout",
     "output_type": "stream",
     "text": [
      "[[3 0 7 0]\n",
      " [2 3 5 0]\n",
      " [2 1 7 0]\n",
      " [1 2 7 0]]\n"
     ]
    }
   ],
   "source": [
    "print(confusion_matrix(y_test, predictions))"
   ]
  },
  {
   "cell_type": "markdown",
   "metadata": {},
   "source": [
    "# Cross validation"
   ]
  },
  {
   "cell_type": "code",
   "execution_count": 19,
   "metadata": {},
   "outputs": [],
   "source": [
    "from sklearn.model_selection import cross_val_score"
   ]
  },
  {
   "cell_type": "code",
   "execution_count": 22,
   "metadata": {},
   "outputs": [],
   "source": [
    "model = SVC(C=1, kernel='rbf', gamma=0.001)"
   ]
  },
  {
   "cell_type": "code",
   "execution_count": null,
   "metadata": {},
   "outputs": [],
   "source": []
  },
  {
   "cell_type": "code",
   "execution_count": 23,
   "metadata": {},
   "outputs": [
    {
     "name": "stdout",
     "output_type": "stream",
     "text": [
      "Cross-validation scores: [0.5    0.4375 0.5    0.625  0.5    0.4375 0.375  0.1875 0.4375 0.375 ]\n"
     ]
    }
   ],
   "source": [
    "scores = cross_val_score(model,X_train, y_train, cv = 10)\n",
    "print(\"Cross-validation scores: {}\".format(scores))"
   ]
  },
  {
   "cell_type": "markdown",
   "metadata": {},
   "source": [
    "# Grid Search to find optimal parameters"
   ]
  },
  {
   "cell_type": "code",
   "execution_count": 24,
   "metadata": {},
   "outputs": [],
   "source": [
    "param_grid = {'C': [0.001, 0.01, 0.1, 1, 10, 100],\n",
    "'gamma': [0.001, 0.01, 0.1, 1, 10, 100]}"
   ]
  },
  {
   "cell_type": "code",
   "execution_count": 26,
   "metadata": {},
   "outputs": [],
   "source": [
    "from sklearn.model_selection import GridSearchCV"
   ]
  },
  {
   "cell_type": "code",
   "execution_count": 27,
   "metadata": {},
   "outputs": [],
   "source": [
    "grid_search = GridSearchCV(SVC(), param_grid, cv=3)"
   ]
  },
  {
   "cell_type": "code",
   "execution_count": 28,
   "metadata": {},
   "outputs": [
    {
     "name": "stderr",
     "output_type": "stream",
     "text": [
      "/home/kevindegila/.conda/envs/deep-learning/lib/python3.6/site-packages/sklearn/model_selection/_search.py:841: DeprecationWarning: The default of the `iid` parameter will change from True to False in version 0.22 and will be removed in 0.24. This will change numeric results when test-set sizes are unequal.\n",
      "  DeprecationWarning)\n"
     ]
    },
    {
     "data": {
      "text/plain": [
       "GridSearchCV(cv=3, error_score='raise-deprecating',\n",
       "       estimator=SVC(C=1.0, cache_size=200, class_weight=None, coef0=0.0,\n",
       "  decision_function_shape='ovr', degree=3, gamma='auto_deprecated',\n",
       "  kernel='rbf', max_iter=-1, probability=False, random_state=None,\n",
       "  shrinking=True, tol=0.001, verbose=False),\n",
       "       fit_params=None, iid='warn', n_jobs=None,\n",
       "       param_grid={'C': [0.001, 0.01, 0.1, 1, 10, 100], 'gamma': [0.001, 0.01, 0.1, 1, 10, 100]},\n",
       "       pre_dispatch='2*n_jobs', refit=True, return_train_score='warn',\n",
       "       scoring=None, verbose=0)"
      ]
     },
     "execution_count": 28,
     "metadata": {},
     "output_type": "execute_result"
    }
   ],
   "source": [
    "grid_search.fit(X_train, y_train)"
   ]
  },
  {
   "cell_type": "code",
   "execution_count": 29,
   "metadata": {},
   "outputs": [
    {
     "name": "stdout",
     "output_type": "stream",
     "text": [
      "Test set score: 0.40\n"
     ]
    }
   ],
   "source": [
    "print(\"Test set score: {:.2f}\".format(grid_search.score(X_test, y_test)))"
   ]
  },
  {
   "cell_type": "code",
   "execution_count": null,
   "metadata": {},
   "outputs": [],
   "source": []
  }
 ],
 "metadata": {
  "kernelspec": {
   "display_name": "Python 3",
   "language": "python",
   "name": "python3"
  },
  "language_info": {
   "codemirror_mode": {
    "name": "ipython",
    "version": 3
   },
   "file_extension": ".py",
   "mimetype": "text/x-python",
   "name": "python",
   "nbconvert_exporter": "python",
   "pygments_lexer": "ipython3",
   "version": "3.6.7"
  },
  "toc": {
   "base_numbering": 1,
   "nav_menu": {},
   "number_sections": true,
   "sideBar": true,
   "skip_h1_title": false,
   "title_cell": "Table of Contents",
   "title_sidebar": "Contents",
   "toc_cell": false,
   "toc_position": {},
   "toc_section_display": true,
   "toc_window_display": false
  },
  "varInspector": {
   "cols": {
    "lenName": 16,
    "lenType": 16,
    "lenVar": 40
   },
   "kernels_config": {
    "python": {
     "delete_cmd_postfix": "",
     "delete_cmd_prefix": "del ",
     "library": "var_list.py",
     "varRefreshCmd": "print(var_dic_list())"
    },
    "r": {
     "delete_cmd_postfix": ") ",
     "delete_cmd_prefix": "rm(",
     "library": "var_list.r",
     "varRefreshCmd": "cat(var_dic_list()) "
    }
   },
   "types_to_exclude": [
    "module",
    "function",
    "builtin_function_or_method",
    "instance",
    "_Feature"
   ],
   "window_display": false
  }
 },
 "nbformat": 4,
 "nbformat_minor": 2
}
